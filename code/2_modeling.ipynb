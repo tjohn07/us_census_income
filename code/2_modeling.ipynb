{
 "cells": [
  {
   "cell_type": "code",
   "execution_count": 2,
   "id": "2cd3576b-fa5b-414f-a4a0-8557a2aeddf6",
   "metadata": {},
   "outputs": [],
   "source": [
    "#standard imports\n",
    "import pandas as pd\n",
    "import numpy as np\n",
    "import matplotlib.pyplot as plt\n",
    "import seaborn as sns\n",
    "\n",
    "#modeling imports\n",
    "from sklearn.naive_bayes import GaussianNB\n",
    "from sklearn.linear_model import LogisticRegression\n",
    "from sklearn.tree import DecisionTreeClassifier, ExtraTreeClassifier\n",
    "from sklearn.ensemble import RandomForestClassifier, AdaBoostClassifier, BaggingClassifier, StackingClassifier\n",
    "from sklearn.neighbors import KNeighborsClassifier\n",
    "\n",
    "from sklearn.model_selection import train_test_split, cross_val_predict, GridSearchCV, cross_val_score\n",
    "from sklearn.preprocessing import StandardScaler, Normalizer\n",
    "\n",
    "#metrics\n",
    "from sklearn.metrics import confusion_matrix, plot_confusion_matrix, classification_report, accuracy_score, plot_roc_curve, roc_auc_score, recall_score, precision_score, f1_score\n",
    "from sklearn import metrics\n",
    "\n",
    "#set a random seed to guarantee reproducible results\n",
    "import random\n",
    "random.seed(48)\n",
    "\n",
    "#Set color palette for visualizations\n",
    "sns.set_palette(sns.color_palette('Dark2'))\n"
   ]
  },
  {
   "cell_type": "code",
   "execution_count": 3,
   "id": "a3d61bb7-ef73-4f37-a3ec-4401930c4c3a",
   "metadata": {},
   "outputs": [],
   "source": [
    "# import training and testing data, which was cleaned in notebook_1\n",
    "\n",
    "model_train_df = pd.read_csv('../data/transformed_data/model_train_df.csv')\n",
    "model_test_df = pd.read_csv('../data/transformed_data/model_test_df.csv')"
   ]
  },
  {
   "cell_type": "code",
   "execution_count": 16,
   "id": "1b107ad2-2cdb-483c-90f4-3460777fb35c",
   "metadata": {},
   "outputs": [],
   "source": [
    "# a function for scoring and pulling model metrics\n",
    "\n",
    "def model_metrics(some_lr, scaled=False):\n",
    "\n",
    "    if scaled:\n",
    "        train_r2 = some_lr.score(X_train_sc, y_train)\n",
    "        test_r2 = some_lr.score(X_test_sc, y_test)\n",
    "        \n",
    "    else:\n",
    "        train_r2 = some_lr.score(X_train, y_train)\n",
    "        test_r2 = some_lr.score(X_test, y_test)\n",
    "    preds = some_lr.predict(X)\n",
    "    resids_mean = (y - preds).mean()\n",
    "    mae = metrics.mean_absolute_error(y, preds)\n",
    "    resids = resids = y - preds\n",
    "    rss = (resids ** 2).sum()\n",
    "    mse = metrics.mean_squared_error(y, preds)\n",
    "    rmse = np.sqrt(metrics.mean_squared_error(y, preds))\n",
    "    cvs = cross_val_score(some_lr, X, y, cv=5).mean()\n",
    "    f1 = f1_score(y, preds)\n",
    "    class_report = classification_report(y, preds)\n",
    "    print(class_report)\n",
    "\n",
    "    final_dict={'Train R2 Score': train_r2,\n",
    "                'Test R2 Score' : test_r2,\n",
    "                'Mean of Residuals': resids_mean,\n",
    "               'Mean Absolute Error': mae,\n",
    "               'Residual Sum of Squares': rss,\n",
    "               'Mean Squared Error': mse,\n",
    "               'Root Mean Squared Error': rmse,\n",
    "               'cross_val_score': cvs,\n",
    "               'f1': f1}\n",
    "    return final_dict\n",
    "\n",
    "# a function to produce classification report\n",
    "\n",
    "def class_report(model, x=X_test_data, y=y_test_data):\n",
    "    preds = model.predict(x)\n",
    "    class_report = classification_report(y, preds)\n",
    "    print(class_report)"
   ]
  },
  {
   "cell_type": "code",
   "execution_count": 5,
   "id": "362b342d-3730-4666-b5e0-e615121c7e86",
   "metadata": {},
   "outputs": [],
   "source": [
    "X = model_train_df.drop(columns = ['target'])\n",
    "y = model_train_df['target']\n",
    "\n",
    "X_test_data = model_test_df.drop(columns = ['target'])\n",
    "y_test_data = model_test_df['target']"
   ]
  },
  {
   "cell_type": "code",
   "execution_count": 6,
   "id": "bebeabb2-6efd-421f-a084-39c46ed6cd3b",
   "metadata": {},
   "outputs": [
    {
     "data": {
      "text/plain": [
       "0    0.937942\n",
       "1    0.062058\n",
       "Name: target, dtype: float64"
      ]
     },
     "execution_count": 6,
     "metadata": {},
     "output_type": "execute_result"
    }
   ],
   "source": [
    "y.value_counts(normalize=True)"
   ]
  },
  {
   "cell_type": "code",
   "execution_count": 7,
   "id": "9e3955b2-e9bb-4806-9915-c65950c93953",
   "metadata": {},
   "outputs": [
    {
     "data": {
      "text/plain": [
       "0    0.937942\n",
       "1    0.062058\n",
       "Name: target, dtype: float64"
      ]
     },
     "execution_count": 7,
     "metadata": {},
     "output_type": "execute_result"
    }
   ],
   "source": [
    "y_test_data.value_counts(normalize=True)"
   ]
  },
  {
   "cell_type": "code",
   "execution_count": 8,
   "id": "f8af2f05-8c0c-400f-aae1-3f307e80bb8e",
   "metadata": {},
   "outputs": [],
   "source": [
    "X_train, X_test, y_train, y_test = train_test_split(X, y, test_size=.1, stratify=y, random_state=48)"
   ]
  },
  {
   "cell_type": "code",
   "execution_count": 9,
   "id": "839a552f-ccab-4360-9274-9f6bb4e99aa3",
   "metadata": {},
   "outputs": [
    {
     "data": {
      "text/plain": [
       "GaussianNB()"
      ]
     },
     "execution_count": 9,
     "metadata": {},
     "output_type": "execute_result"
    }
   ],
   "source": [
    "nb = GaussianNB()\n",
    "nb.fit(X_train, y_train)"
   ]
  },
  {
   "cell_type": "code",
   "execution_count": 12,
   "id": "8e1b68e4-9083-49dc-89c3-9dc3aedced80",
   "metadata": {},
   "outputs": [
    {
     "name": "stdout",
     "output_type": "stream",
     "text": [
      "              precision    recall  f1-score   support\n",
      "\n",
      "           0       0.99      0.70      0.82    187141\n",
      "           1       0.16      0.86      0.27     12382\n",
      "\n",
      "    accuracy                           0.71    199523\n",
      "   macro avg       0.57      0.78      0.54    199523\n",
      "weighted avg       0.94      0.71      0.78    199523\n",
      "\n"
     ]
    },
    {
     "data": {
      "text/plain": [
       "{'Train R2 Score': 0.7099404132093334,\n",
       " 'Test R2 Score': 0.7070114769708816,\n",
       " 'Mean of Residuals': -0.2723796254065947,\n",
       " 'Mean Absolute Error': 0.29035249069029634,\n",
       " 'Residual Sum of Squares': 57932,\n",
       " 'Mean Squared Error': 0.29035249069029634,\n",
       " 'Root Mean Squared Error': 0.5388436607127306,\n",
       " 'cross_val_score': 0.7100534937527551,\n",
       " 'f1': 0.2677031980786247}"
      ]
     },
     "execution_count": 12,
     "metadata": {},
     "output_type": "execute_result"
    }
   ],
   "source": [
    "model_metrics(nb)"
   ]
  },
  {
   "cell_type": "code",
   "execution_count": 17,
   "id": "6e6ca51a-c5c2-47fd-abaf-8cfddc130a78",
   "metadata": {},
   "outputs": [
    {
     "name": "stdout",
     "output_type": "stream",
     "text": [
      "              precision    recall  f1-score   support\n",
      "\n",
      "           0       0.99      0.70      0.82    187141\n",
      "           1       0.16      0.86      0.27     12382\n",
      "\n",
      "    accuracy                           0.71    199523\n",
      "   macro avg       0.57      0.78      0.54    199523\n",
      "weighted avg       0.94      0.71      0.78    199523\n",
      "\n"
     ]
    }
   ],
   "source": [
    "class_report(nb)"
   ]
  },
  {
   "cell_type": "code",
   "execution_count": 14,
   "id": "123bfb83-0923-40cd-96cd-1ca3af633aff",
   "metadata": {},
   "outputs": [
    {
     "data": {
      "text/plain": [
       "LogisticRegression(max_iter=100000)"
      ]
     },
     "execution_count": 14,
     "metadata": {},
     "output_type": "execute_result"
    }
   ],
   "source": [
    "logreg = LogisticRegression(max_iter=100_000)\n",
    "logreg.fit(X_train, y_train)"
   ]
  },
  {
   "cell_type": "code",
   "execution_count": 15,
   "id": "5b4d34c1-d871-47b8-8bbc-16b39e0ede51",
   "metadata": {},
   "outputs": [
    {
     "name": "stdout",
     "output_type": "stream",
     "text": [
      "              precision    recall  f1-score   support\n",
      "\n",
      "           0       0.95      0.99      0.97    187141\n",
      "           1       0.66      0.24      0.35     12382\n",
      "\n",
      "    accuracy                           0.95    199523\n",
      "   macro avg       0.80      0.62      0.66    199523\n",
      "weighted avg       0.93      0.95      0.93    199523\n",
      "\n"
     ]
    },
    {
     "data": {
      "text/plain": [
       "{'Train R2 Score': 0.9451188951383861,\n",
       " 'Test R2 Score': 0.9445196211096076,\n",
       " 'Mean of Residuals': 0.03940397848869554,\n",
       " 'Mean Absolute Error': 0.054941034366965215,\n",
       " 'Residual Sum of Squares': 10962,\n",
       " 'Mean Squared Error': 0.054941034366965215,\n",
       " 'Root Mean Squared Error': 0.23439503912618376,\n",
       " 'cross_val_score': 0.9450238747408013,\n",
       " 'f1': 0.3514376996805112}"
      ]
     },
     "execution_count": 15,
     "metadata": {},
     "output_type": "execute_result"
    }
   ],
   "source": [
    "model_metrics(logreg)"
   ]
  },
  {
   "cell_type": "code",
   "execution_count": 83,
   "id": "90ac44e2-7899-4cc1-9993-52cebf8c140b",
   "metadata": {},
   "outputs": [
    {
     "data": {
      "text/plain": [
       "0.9450589656330348"
      ]
     },
     "execution_count": 83,
     "metadata": {},
     "output_type": "execute_result"
    }
   ],
   "source": [
    "logreg.score(X_test_data, y_test_data)"
   ]
  },
  {
   "cell_type": "code",
   "execution_count": 18,
   "id": "ef1d36e4-67b5-4931-a29d-4466562726c2",
   "metadata": {},
   "outputs": [
    {
     "name": "stdout",
     "output_type": "stream",
     "text": [
      "              precision    recall  f1-score   support\n",
      "\n",
      "           0       0.95      0.99      0.97    187141\n",
      "           1       0.66      0.24      0.35     12382\n",
      "\n",
      "    accuracy                           0.95    199523\n",
      "   macro avg       0.80      0.62      0.66    199523\n",
      "weighted avg       0.93      0.95      0.93    199523\n",
      "\n"
     ]
    }
   ],
   "source": [
    "class_report(logreg)"
   ]
  },
  {
   "cell_type": "code",
   "execution_count": 19,
   "id": "3cd8fec3-31d2-4698-bf16-70a68ab50822",
   "metadata": {},
   "outputs": [
    {
     "name": "stdout",
     "output_type": "stream",
     "text": [
      "              precision    recall  f1-score   support\n",
      "\n",
      "           0       0.95      0.99      0.97     18715\n",
      "           1       0.64      0.24      0.35      1238\n",
      "\n",
      "    accuracy                           0.94     19953\n",
      "   macro avg       0.80      0.62      0.66     19953\n",
      "weighted avg       0.93      0.94      0.93     19953\n",
      "\n"
     ]
    }
   ],
   "source": [
    "class_report(logreg, X_test, y_test)"
   ]
  },
  {
   "cell_type": "code",
   "execution_count": 20,
   "id": "c80c6683-88a4-46cf-8236-bbae908b60ca",
   "metadata": {},
   "outputs": [
    {
     "data": {
      "text/html": [
       "<div>\n",
       "<style scoped>\n",
       "    .dataframe tbody tr th:only-of-type {\n",
       "        vertical-align: middle;\n",
       "    }\n",
       "\n",
       "    .dataframe tbody tr th {\n",
       "        vertical-align: top;\n",
       "    }\n",
       "\n",
       "    .dataframe thead th {\n",
       "        text-align: right;\n",
       "    }\n",
       "</style>\n",
       "<table border=\"1\" class=\"dataframe\">\n",
       "  <thead>\n",
       "    <tr style=\"text-align: right;\">\n",
       "      <th></th>\n",
       "      <th>Coefficient</th>\n",
       "    </tr>\n",
       "  </thead>\n",
       "  <tbody>\n",
       "    <tr>\n",
       "      <th>veterans_benefits</th>\n",
       "      <td>0.559045</td>\n",
       "    </tr>\n",
       "    <tr>\n",
       "      <th>stock_dividends</th>\n",
       "      <td>0.543852</td>\n",
       "    </tr>\n",
       "    <tr>\n",
       "      <th>age</th>\n",
       "      <td>0.527804</td>\n",
       "    </tr>\n",
       "    <tr>\n",
       "      <th>num_employed</th>\n",
       "      <td>0.100315</td>\n",
       "    </tr>\n",
       "    <tr>\n",
       "      <th>weeks_worked</th>\n",
       "      <td>0.051261</td>\n",
       "    </tr>\n",
       "    <tr>\n",
       "      <th>occupation_major</th>\n",
       "      <td>0.039828</td>\n",
       "    </tr>\n",
       "    <tr>\n",
       "      <th>education</th>\n",
       "      <td>0.034443</td>\n",
       "    </tr>\n",
       "    <tr>\n",
       "      <th>employment_status</th>\n",
       "      <td>0.026645</td>\n",
       "    </tr>\n",
       "    <tr>\n",
       "      <th>household_summary</th>\n",
       "      <td>0.023859</td>\n",
       "    </tr>\n",
       "    <tr>\n",
       "      <th>industry_detailed</th>\n",
       "      <td>0.005430</td>\n",
       "    </tr>\n",
       "    <tr>\n",
       "      <th>industry_major</th>\n",
       "      <td>-0.018681</td>\n",
       "    </tr>\n",
       "    <tr>\n",
       "      <th>occupation_detailed</th>\n",
       "      <td>-0.058072</td>\n",
       "    </tr>\n",
       "    <tr>\n",
       "      <th>self_employed</th>\n",
       "      <td>-0.062719</td>\n",
       "    </tr>\n",
       "    <tr>\n",
       "      <th>marital_status</th>\n",
       "      <td>-0.075250</td>\n",
       "    </tr>\n",
       "    <tr>\n",
       "      <th>hispanic_origin</th>\n",
       "      <td>-0.092106</td>\n",
       "    </tr>\n",
       "    <tr>\n",
       "      <th>tax_filer_stat</th>\n",
       "      <td>-0.110513</td>\n",
       "    </tr>\n",
       "    <tr>\n",
       "      <th>parent_birth_country</th>\n",
       "      <td>-0.187333</td>\n",
       "    </tr>\n",
       "    <tr>\n",
       "      <th>country_birth_self</th>\n",
       "      <td>-0.293188</td>\n",
       "    </tr>\n",
       "    <tr>\n",
       "      <th>citizenship_ Native- Born in the United States</th>\n",
       "      <td>-0.355428</td>\n",
       "    </tr>\n",
       "    <tr>\n",
       "      <th>race_ White</th>\n",
       "      <td>-0.507148</td>\n",
       "    </tr>\n",
       "    <tr>\n",
       "      <th>race_ Asian or Pacific Islander</th>\n",
       "      <td>-0.613369</td>\n",
       "    </tr>\n",
       "    <tr>\n",
       "      <th>race_ Other</th>\n",
       "      <td>-0.639810</td>\n",
       "    </tr>\n",
       "    <tr>\n",
       "      <th>citizenship_ Foreign born- U S citizen by naturalization</th>\n",
       "      <td>-0.664564</td>\n",
       "    </tr>\n",
       "    <tr>\n",
       "      <th>citizenship_ Native- Born abroad of American Parent(s)</th>\n",
       "      <td>-0.717627</td>\n",
       "    </tr>\n",
       "    <tr>\n",
       "      <th>race_ Black</th>\n",
       "      <td>-0.892179</td>\n",
       "    </tr>\n",
       "    <tr>\n",
       "      <th>citizenship_ Native- Born in Puerto Rico or U S Outlying</th>\n",
       "      <td>-1.019372</td>\n",
       "    </tr>\n",
       "    <tr>\n",
       "      <th>citizenship_ Foreign born- Not a citizen of U S</th>\n",
       "      <td>-1.073749</td>\n",
       "    </tr>\n",
       "    <tr>\n",
       "      <th>race_ Amer Indian Aleut or Eskimo</th>\n",
       "      <td>-1.178234</td>\n",
       "    </tr>\n",
       "    <tr>\n",
       "      <th>sex</th>\n",
       "      <td>-1.633728</td>\n",
       "    </tr>\n",
       "  </tbody>\n",
       "</table>\n",
       "</div>"
      ],
      "text/plain": [
       "                                                    Coefficient\n",
       "veterans_benefits                                      0.559045\n",
       "stock_dividends                                        0.543852\n",
       "age                                                    0.527804\n",
       "num_employed                                           0.100315\n",
       "weeks_worked                                           0.051261\n",
       "occupation_major                                       0.039828\n",
       "education                                              0.034443\n",
       "employment_status                                      0.026645\n",
       "household_summary                                      0.023859\n",
       "industry_detailed                                      0.005430\n",
       "industry_major                                        -0.018681\n",
       "occupation_detailed                                   -0.058072\n",
       "self_employed                                         -0.062719\n",
       "marital_status                                        -0.075250\n",
       "hispanic_origin                                       -0.092106\n",
       "tax_filer_stat                                        -0.110513\n",
       "parent_birth_country                                  -0.187333\n",
       "country_birth_self                                    -0.293188\n",
       "citizenship_ Native- Born in the United States        -0.355428\n",
       "race_ White                                           -0.507148\n",
       "race_ Asian or Pacific Islander                       -0.613369\n",
       "race_ Other                                           -0.639810\n",
       "citizenship_ Foreign born- U S citizen by natur...    -0.664564\n",
       "citizenship_ Native- Born abroad of American Pa...    -0.717627\n",
       "race_ Black                                           -0.892179\n",
       "citizenship_ Native- Born in Puerto Rico or U S...    -1.019372\n",
       "citizenship_ Foreign born- Not a citizen of U S       -1.073749\n",
       "race_ Amer Indian Aleut or Eskimo                     -1.178234\n",
       "sex                                                   -1.633728"
      ]
     },
     "execution_count": 20,
     "metadata": {},
     "output_type": "execute_result"
    }
   ],
   "source": [
    "coef = list(logreg.coef_)\n",
    "features = list(X.columns)\n",
    "income_coef = pd.DataFrame(zip(features, coef[0]), columns=['Feature', 'Coefficient'],index=features).drop(columns='Feature').sort_values(by='Coefficient', ascending=False)\n",
    "income_coef"
   ]
  },
  {
   "cell_type": "code",
   "execution_count": 21,
   "id": "528cbe3a-19aa-4390-886f-e8b338ff282c",
   "metadata": {},
   "outputs": [
    {
     "data": {
      "image/png": "[encoded data removed]",
      "text/plain": [
       "<Figure size 1440x864 with 1 Axes>"
      ]
     },
     "metadata": {
      "needs_background": "light"
     },
     "output_type": "display_data"
    }
   ],
   "source": [
    "fig_dims = (20, 12)\n",
    "fig, ax = plt.subplots(figsize=fig_dims)\n",
    "sns.barplot(y = income_coef.index, x=income_coef['Coefficient'], ax=ax)\n",
    "plt.xticks(fontsize=16)\n",
    "plt.yticks(fontsize=16)\n",
    "plt.title('Binary Classification Model Coefficients: Predictors Income Greater or Less Than $50k', fontsize=20);"
   ]
  },
  {
   "cell_type": "code",
   "execution_count": 22,
   "id": "7a7d4817-7ad1-4b5c-a67e-d0439c2e8333",
   "metadata": {},
   "outputs": [
    {
     "data": {
      "text/plain": [
       "<Figure size 1440x1440 with 0 Axes>"
      ]
     },
     "metadata": {},
     "output_type": "display_data"
    },
    {
     "data": {
      "image/png": "[encoded data removed]",
      "text/plain": [
       "<Figure size 432x288 with 2 Axes>"
      ]
     },
     "metadata": {
      "needs_background": "light"
     },
     "output_type": "display_data"
    }
   ],
   "source": [
    "# Training Data\n",
    "\n",
    "plt.figure(figsize=(20, 20))\n",
    "plot_confusion_matrix(logreg, X_test, y_test, cmap='Blues', normalize='true')\n",
    "plt.title('LogisticRegression Confusion Matrix');"
   ]
  },
  {
   "cell_type": "code",
   "execution_count": 23,
   "id": "e0b41b80-93bc-4b3b-8be9-9f1620df2821",
   "metadata": {},
   "outputs": [
    {
     "data": {
      "text/plain": [
       "<Figure size 1440x1440 with 0 Axes>"
      ]
     },
     "metadata": {},
     "output_type": "display_data"
    },
    {
     "data": {
      "image/png": "[encoded data removed]",
      "text/plain": [
       "<Figure size 432x288 with 2 Axes>"
      ]
     },
     "metadata": {
      "needs_background": "light"
     },
     "output_type": "display_data"
    }
   ],
   "source": [
    "# Testing Data\n",
    "\n",
    "plt.figure(figsize=(20, 20))\n",
    "plot_confusion_matrix(logreg, X_test_data, y_test_data, cmap='Blues', normalize='true')\n",
    "plt.title('LogisticRegression Confusion Matrix');"
   ]
  },
  {
   "cell_type": "code",
   "execution_count": 24,
   "id": "28e7ee11-ec8f-4b07-ba30-dcccbc6a92d8",
   "metadata": {},
   "outputs": [
    {
     "data": {
      "image/png": "[encoded data removed]",
      "text/plain": [
       "<Figure size 432x288 with 1 Axes>"
      ]
     },
     "metadata": {
      "needs_background": "light"
     },
     "output_type": "display_data"
    }
   ],
   "source": [
    "#ROC plot code is from General Assembly lesson 4.05.\n",
    "plot_roc_curve(logreg, X_test_data, y_test_data)\n",
    "plt.plot([0,1], [0,1], label = 'baseline', linestyle= '--')\n",
    "plt.title('ROC')\n",
    "plt.legend();"
   ]
  },
  {
   "cell_type": "code",
   "execution_count": 42,
   "id": "a020682d-ea48-442c-be5c-11e5799eba76",
   "metadata": {},
   "outputs": [
    {
     "data": {
      "text/plain": [
       "RandomForestClassifier(random_state=48)"
      ]
     },
     "execution_count": 42,
     "metadata": {},
     "output_type": "execute_result"
    }
   ],
   "source": [
    "rf = RandomForestClassifier(random_state=48)\n",
    "rf.fit(X_train, y_train)"
   ]
  },
  {
   "cell_type": "code",
   "execution_count": 43,
   "id": "c2e2497d-d6da-4042-bf48-2304418ce59f",
   "metadata": {},
   "outputs": [
    {
     "name": "stdout",
     "output_type": "stream",
     "text": [
      "              precision    recall  f1-score   support\n",
      "\n",
      "           0       0.99      1.00      0.99    187141\n",
      "           1       0.95      0.86      0.90     12382\n",
      "\n",
      "    accuracy                           0.99    199523\n",
      "   macro avg       0.97      0.93      0.95    199523\n",
      "weighted avg       0.99      0.99      0.99    199523\n",
      "\n"
     ]
    },
    {
     "data": {
      "text/plain": [
       "{'Train R2 Score': 0.9929665311577658,\n",
       " 'Test R2 Score': 0.9445196211096076,\n",
       " 'Mean of Residuals': 0.006084511560070769,\n",
       " 'Mean Absolute Error': 0.011878329816612621,\n",
       " 'Residual Sum of Squares': 2370,\n",
       " 'Mean Squared Error': 0.011878329816612621,\n",
       " 'Root Mean Squared Error': 0.10898775076407725,\n",
       " 'cross_val_score': 0.9461265027545874,\n",
       " 'f1': 0.8993630573248408}"
      ]
     },
     "execution_count": 43,
     "metadata": {},
     "output_type": "execute_result"
    }
   ],
   "source": [
    "model_metrics(rf)"
   ]
  },
  {
   "cell_type": "code",
   "execution_count": 44,
   "id": "dd92ba07-c6e9-4f87-85d0-c1a674d411d2",
   "metadata": {},
   "outputs": [
    {
     "name": "stdout",
     "output_type": "stream",
     "text": [
      "              precision    recall  f1-score   support\n",
      "\n",
      "           0       0.99      1.00      0.99    187141\n",
      "           1       0.95      0.86      0.90     12382\n",
      "\n",
      "    accuracy                           0.99    199523\n",
      "   macro avg       0.97      0.93      0.95    199523\n",
      "weighted avg       0.99      0.99      0.99    199523\n",
      "\n"
     ]
    }
   ],
   "source": [
    "class_report(rf)"
   ]
  },
  {
   "cell_type": "code",
   "execution_count": 45,
   "id": "a2d0ab84-ba70-4516-8174-c283fcbdb1b5",
   "metadata": {},
   "outputs": [
    {
     "data": {
      "text/plain": [
       "0.8993630573248408"
      ]
     },
     "execution_count": 45,
     "metadata": {},
     "output_type": "execute_result"
    }
   ],
   "source": [
    "f1_score(y_test_data, rf.predict(X_test_data))"
   ]
  },
  {
   "cell_type": "code",
   "execution_count": 46,
   "id": "9057345f-3480-49ef-a363-ca198ee7bf57",
   "metadata": {},
   "outputs": [
    {
     "data": {
      "image/png": "[encoded data removed]",
      "text/plain": [
       "<Figure size 432x288 with 1 Axes>"
      ]
     },
     "metadata": {
      "needs_background": "light"
     },
     "output_type": "display_data"
    }
   ],
   "source": [
    "#ROC plot code is from General Assembly lesson 4.05.\n",
    "plot_roc_curve(rf, X_test_data, y_test_data)\n",
    "plt.plot([0,1], [0,1], label = 'baseline', linestyle= '--')\n",
    "plt.title('ROC')\n",
    "plt.legend();"
   ]
  },
  {
   "cell_type": "code",
   "execution_count": 47,
   "id": "2adb532d-651d-4efa-8696-5fd692823aba",
   "metadata": {},
   "outputs": [
    {
     "data": {
      "text/plain": [
       "<Figure size 1440x1440 with 0 Axes>"
      ]
     },
     "metadata": {},
     "output_type": "display_data"
    },
    {
     "data": {
      "image/png": "[encoded data removed]",
      "text/plain": [
       "<Figure size 432x288 with 2 Axes>"
      ]
     },
     "metadata": {
      "needs_background": "light"
     },
     "output_type": "display_data"
    }
   ],
   "source": [
    "# Testing Data\n",
    "\n",
    "plt.figure(figsize=(20, 20))\n",
    "plot_confusion_matrix(rf, X_test_data, y_test_data, cmap='Blues', normalize='true')\n",
    "plt.title('RandomForest Confusion Matrix');"
   ]
  },
  {
   "cell_type": "code",
   "execution_count": 17,
   "id": "de071fe1-2482-4245-abb2-623115034295",
   "metadata": {},
   "outputs": [],
   "source": []
  },
  {
   "cell_type": "code",
   "execution_count": 18,
   "id": "62a62d0b-66a1-4e45-970a-0f1b6d168ab3",
   "metadata": {},
   "outputs": [
    {
     "name": "stdout",
     "output_type": "stream",
     "text": [
      "Fitting 5 folds for each of 64 candidates, totalling 320 fits\n"
     ]
    },
    {
     "data": {
      "text/plain": [
       "GridSearchCV(cv=5, estimator=RandomForestClassifier(),\n",
       "             param_grid={'ccp_alpha': [0.0001, 0.001, 0.01, 0.1],\n",
       "                         'class_weight': ['balanced', 'balanced_subsample'],\n",
       "                         'criterion': ['gini', 'entropy'],\n",
       "                         'min_samples_split': [2, 4], 'n_estimators': [3, 5]},\n",
       "             verbose=1)"
      ]
     },
     "execution_count": 18,
     "metadata": {},
     "output_type": "execute_result"
    }
   ],
   "source": [
    "#Gridsearch of randomforest model will take a significant amount of time to run. Unccoment the code below to run this gridsearch\n",
    "\n",
    "# rf_params = {\n",
    "#     'criterion': ['gini','entropy'],\n",
    "#     'min_samples_split': [2, 4],\n",
    "#     'n_estimators': [3, 5],\n",
    "#     'class_weight': ['balanced', 'balanced_subsample'],\n",
    "#     'ccp_alpha': [.0001, .001, .01, .1]\n",
    "\n",
    "# }\n",
    "\n",
    "# rf_gridsearch = GridSearchCV(RandomForestClassifier(), \n",
    "#                               rf_params, \n",
    "#                               cv=5, \n",
    "#                               verbose=1)\n",
    "\n",
    "# rf_gridsearch.fit(X_train, y_train)"
   ]
  },
  {
   "cell_type": "code",
   "execution_count": 19,
   "id": "59bc6f06-9cc0-48eb-84ba-b3665abe2144",
   "metadata": {},
   "outputs": [
    {
     "data": {
      "text/plain": [
       "{'ccp_alpha': 0.0001,\n",
       " 'class_weight': 'balanced_subsample',\n",
       " 'criterion': 'entropy',\n",
       " 'min_samples_split': 2,\n",
       " 'n_estimators': 5}"
      ]
     },
     "execution_count": 19,
     "metadata": {},
     "output_type": "execute_result"
    }
   ],
   "source": [
    "#uncomment code below to get best_param from rf gridsearch\n",
    "\n",
    "# rf_gridsearch.best_params_"
   ]
  },
  {
   "cell_type": "code",
   "execution_count": 20,
   "id": "7ed3f011-a51b-4a6b-aca9-d33b578d9679",
   "metadata": {},
   "outputs": [
    {
     "data": {
      "text/plain": [
       "0.9039895245758061"
      ]
     },
     "execution_count": 20,
     "metadata": {},
     "output_type": "execute_result"
    }
   ],
   "source": [
    "#uncomment code below to get best_score from rf gridsearch\n",
    "\n",
    "# rf_gridsearch.best_score_"
   ]
  },
  {
   "cell_type": "code",
   "execution_count": null,
   "id": "5037ae8b-7ee3-4f0e-b1cf-b31fff6296af",
   "metadata": {},
   "outputs": [],
   "source": [
    "estimators = [('knn', KNeighborsClassifier(p=1)),\n",
    "              ('tree', DecisionTreeClassifier(random_state=42))]\n",
    "\n",
    "stacks = StackingClassifier(estimators=estimators, final_estimator=RandomForestClassifier(), cv=3)\n",
    "\n",
    "stacks.fit(X_train, y_train)\n"
   ]
  },
  {
   "cell_type": "code",
   "execution_count": null,
   "id": "b7bc5cbd-e451-417a-8b6d-1fa89c186d69",
   "metadata": {},
   "outputs": [],
   "source": [
    "stacks.score(X_test_data, y_test_data)"
   ]
  },
  {
   "cell_type": "code",
   "execution_count": 65,
   "id": "a8269c43-8468-4df6-95ef-c8f85f98afa9",
   "metadata": {},
   "outputs": [],
   "source": [
    "#transforming data in preparation for KNN model\n",
    "sc = StandardScaler()\n",
    "X_train_sc = sc.fit_transform(X_train)\n",
    "X_test_sc = sc.transform(X_test)"
   ]
  },
  {
   "cell_type": "code",
   "execution_count": 69,
   "id": "c9f49449-1da5-4c45-ae1e-b5e8c6e66cda",
   "metadata": {},
   "outputs": [
    {
     "data": {
      "text/plain": [
       "KNeighborsClassifier(p=1)"
      ]
     },
     "execution_count": 69,
     "metadata": {},
     "output_type": "execute_result"
    }
   ],
   "source": [
    "knn = KNeighborsClassifier(p=1)\n",
    "knn.fit(X_train_sc, y_train)"
   ]
  },
  {
   "cell_type": "code",
   "execution_count": 70,
   "id": "8557f7c6-0d02-45ac-a529-c7bdf4992b67",
   "metadata": {},
   "outputs": [
    {
     "data": {
      "text/plain": [
       "0.8716483736781436"
      ]
     },
     "execution_count": 70,
     "metadata": {},
     "output_type": "execute_result"
    }
   ],
   "source": [
    "knn.score(X_test, y_test)"
   ]
  },
  {
   "cell_type": "code",
   "execution_count": 71,
   "id": "f9f07024-1b89-4374-a22a-961b01941192",
   "metadata": {},
   "outputs": [
    {
     "data": {
      "text/plain": [
       "0.8688867850977334"
      ]
     },
     "execution_count": 71,
     "metadata": {},
     "output_type": "execute_result"
    }
   ],
   "source": [
    "knn.score(X_train, y_train)"
   ]
  },
  {
   "cell_type": "code",
   "execution_count": null,
   "id": "671c1f4e-26f4-4575-bade-468e7e4b51d0",
   "metadata": {},
   "outputs": [],
   "source": []
  }
 ],
 "metadata": {
  "kernelspec": {
   "display_name": "Python 3",
   "language": "python",
   "name": "python3"
  },
  "language_info": {
   "codemirror_mode": {
    "name": "ipython",
    "version": 3
   },
   "file_extension": ".py",
   "mimetype": "text/x-python",
   "name": "python",
   "nbconvert_exporter": "python",
   "pygments_lexer": "ipython3",
   "version": "3.8.8"
  }
 },
 "nbformat": 4,
 "nbformat_minor": 5
}
