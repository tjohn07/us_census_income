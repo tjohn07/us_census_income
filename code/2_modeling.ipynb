{
 "cells": [
  {
   "cell_type": "code",
   "execution_count": null,
   "id": "2cd3576b-fa5b-414f-a4a0-8557a2aeddf6",
   "metadata": {},
   "outputs": [],
   "source": [
    "import pandas as pd\n",
    "import numpy as np\n",
    "import matplotlib.pyplot as plt\n",
    "import seaborn as sns\n",
    "\n",
    "from sklearn.naive_bayes import GaussianNB\n",
    "from sklearn.linear_model import LogisticRegression\n",
    "from sklearn.tree import DecisionTreeClassifier, ExtraTreeClassifier\n",
    "from sklearn.ensemble import RandomForestClassifier, AdaBoostClassifier, BaggingClassifier, StackingClassifier\n",
    "from sklearn.neighbors import KNeighborsClassifier\n",
    "\n",
    "from sklearn.model_selection import train_test_split, cross_val_predict, GridSearchCV, cross_val_score\n",
    "from sklearn.preprocessing import StandardScaler, Normalizer\n",
    "\n",
    "#metrics\n",
    "from sklearn.metrics import confusion_matrix, plot_confusion_matrix, classification_report, accuracy_score, plot_roc_curve, roc_auc_score, recall_score, precision_score, f1_score\n",
    "from sklearn import metrics\n",
    "\n",
    "import random\n",
    "random.seed(48)\n"
   ]
  },
  {
   "cell_type": "code",
   "execution_count": 1,
   "id": "a3d61bb7-ef73-4f37-a3ec-4401930c4c3a",
   "metadata": {},
   "outputs": [
    {
     "ename": "NameError",
     "evalue": "name 'pd' is not defined",
     "output_type": "error",
     "traceback": [
      "\u001b[0;31m---------------------------------------------------------------------------\u001b[0m",
      "\u001b[0;31mNameError\u001b[0m                                 Traceback (most recent call last)",
      "\u001b[0;32m<ipython-input-1-33fddb0be10e>\u001b[0m in \u001b[0;36m<module>\u001b[0;34m\u001b[0m\n\u001b[1;32m      1\u001b[0m \u001b[0;31m# import training and testing data, which was cleaned in notebook_1\u001b[0m\u001b[0;34m\u001b[0m\u001b[0;34m\u001b[0m\u001b[0;34m\u001b[0m\u001b[0m\n\u001b[1;32m      2\u001b[0m \u001b[0;34m\u001b[0m\u001b[0m\n\u001b[0;32m----> 3\u001b[0;31m \u001b[0mmodel_train_df\u001b[0m \u001b[0;34m=\u001b[0m \u001b[0mpd\u001b[0m\u001b[0;34m.\u001b[0m\u001b[0mread_csv\u001b[0m\u001b[0;34m(\u001b[0m\u001b[0;34m'../data/transformed_data/model_train_df.csv'\u001b[0m\u001b[0;34m)\u001b[0m\u001b[0;34m\u001b[0m\u001b[0;34m\u001b[0m\u001b[0m\n\u001b[0m\u001b[1;32m      4\u001b[0m \u001b[0mmodel_test_df\u001b[0m \u001b[0;34m=\u001b[0m \u001b[0mpd\u001b[0m\u001b[0;34m.\u001b[0m\u001b[0mread_csv\u001b[0m\u001b[0;34m(\u001b[0m\u001b[0;34m'../data/transformed_data/model_test_df.csv'\u001b[0m\u001b[0;34m)\u001b[0m\u001b[0;34m\u001b[0m\u001b[0;34m\u001b[0m\u001b[0m\n",
      "\u001b[0;31mNameError\u001b[0m: name 'pd' is not defined"
     ]
    }
   ],
   "source": [
    "# import training and testing data, which was cleaned in notebook_1\n",
    "\n",
    "model_train_df = pd.read_csv('../data/transformed_data/model_train_df.csv')\n",
    "model_test_df = pd.read_csv('../data/transformed_data/model_test_df.csv')"
   ]
  },
  {
   "cell_type": "code",
   "execution_count": null,
   "id": "1b107ad2-2cdb-483c-90f4-3460777fb35c",
   "metadata": {},
   "outputs": [],
   "source": [
    "# a function for scoring and pulling model metrics\n",
    "\n",
    "def model_metrics(some_lr, scaled=False):\n",
    "\n",
    "    if scaled:\n",
    "        train_r2 = some_lr.score(X_train_sc, y_train)\n",
    "        test_r2 = some_lr.score(X_test_sc, y_test)\n",
    "        \n",
    "    else:\n",
    "        train_r2 = some_lr.score(X_train, y_train)\n",
    "        test_r2 = some_lr.score(X_test, y_test)\n",
    "    preds = some_lr.predict(X)\n",
    "    resids_mean = (y - preds).mean()\n",
    "    mae = metrics.mean_absolute_error(y, preds)\n",
    "    resids = resids = y - preds\n",
    "    rss = (resids ** 2).sum()\n",
    "    mse = metrics.mean_squared_error(y, preds)\n",
    "    rmse = np.sqrt(metrics.mean_squared_error(y, preds))\n",
    "    cvs = cross_val_score(some_lr, X, y, cv=5).mean()\n",
    "    f1 = f1_score(y, preds)\n",
    "    class_report = classification_report(y, preds)\n",
    "\n",
    "    final_dict={'Train R2 Score': train_r2,\n",
    "                'Test R2 Score' : test_r2,\n",
    "                'Mean of Residuals': resids_mean,\n",
    "               'Mean Absolute Error': mae,\n",
    "               'Residual Sum of Squares': rss,\n",
    "               'Mean Squared Error': mse,\n",
    "               'Root Mean Squared Error': rmse,\n",
    "               'cross_val_score': cvs,\n",
    "               'f1': f1}\n",
    "    return final_dict, class_report"
   ]
  },
  {
   "cell_type": "code",
   "execution_count": null,
   "id": "362b342d-3730-4666-b5e0-e615121c7e86",
   "metadata": {},
   "outputs": [],
   "source": [
    "X = model_train_df.drop(columns = ['target'])\n",
    "y = model_train_df['target']"
   ]
  },
  {
   "cell_type": "code",
   "execution_count": 2,
   "id": "bebeabb2-6efd-421f-a084-39c46ed6cd3b",
   "metadata": {},
   "outputs": [
    {
     "ename": "NameError",
     "evalue": "name 'y' is not defined",
     "output_type": "error",
     "traceback": [
      "\u001b[0;31m---------------------------------------------------------------------------\u001b[0m",
      "\u001b[0;31mNameError\u001b[0m                                 Traceback (most recent call last)",
      "\u001b[0;32m<ipython-input-2-8802e0276efc>\u001b[0m in \u001b[0;36m<module>\u001b[0;34m\u001b[0m\n\u001b[0;32m----> 1\u001b[0;31m \u001b[0my\u001b[0m\u001b[0;34m.\u001b[0m\u001b[0mvalue_counts\u001b[0m\u001b[0;34m(\u001b[0m\u001b[0mnormalize\u001b[0m\u001b[0;34m=\u001b[0m\u001b[0;32mTrue\u001b[0m\u001b[0;34m)\u001b[0m\u001b[0;34m\u001b[0m\u001b[0;34m\u001b[0m\u001b[0m\n\u001b[0m",
      "\u001b[0;31mNameError\u001b[0m: name 'y' is not defined"
     ]
    }
   ],
   "source": [
    "y.value_counts(normalize=True)"
   ]
  },
  {
   "cell_type": "code",
   "execution_count": null,
   "id": "f8af2f05-8c0c-400f-aae1-3f307e80bb8e",
   "metadata": {},
   "outputs": [],
   "source": [
    "X_train, X_test, y_train, y_test = train_test_split(X, y, test_size=.2, stratify=y, random_state=48)"
   ]
  },
  {
   "cell_type": "code",
   "execution_count": 25,
   "id": "839a552f-ccab-4360-9274-9f6bb4e99aa3",
   "metadata": {},
   "outputs": [
    {
     "data": {
      "text/plain": [
       "GaussianNB()"
      ]
     },
     "execution_count": 25,
     "metadata": {},
     "output_type": "execute_result"
    }
   ],
   "source": [
    "nb = GaussianNB()\n",
    "nb.fit(X_train, y_train)"
   ]
  },
  {
   "cell_type": "code",
   "execution_count": 26,
   "id": "8e1b68e4-9083-49dc-89c3-9dc3aedced80",
   "metadata": {},
   "outputs": [
    {
     "data": {
      "text/plain": [
       "{'Train R2 Score': 0.82949291433297,\n",
       " 'Test R2 Score': 0.8260869565217391,\n",
       " 'Mean of Residuals': -0.13879101657453025,\n",
       " 'Mean Absolute Error': 0.17118828405747707,\n",
       " 'Residual Sum of Squares': 34156,\n",
       " 'Mean Squared Error': 0.17118828405747707,\n",
       " 'Root Mean Squared Error': 0.4137490592828908,\n",
       " 'cross_val_score': 0.8305659073569576}"
      ]
     },
     "execution_count": 26,
     "metadata": {},
     "output_type": "execute_result"
    }
   ],
   "source": [
    "model_metrics(nb)"
   ]
  },
  {
   "cell_type": "code",
   "execution_count": 9,
   "id": "123bfb83-0923-40cd-96cd-1ca3af633aff",
   "metadata": {},
   "outputs": [
    {
     "data": {
      "text/plain": [
       "LogisticRegression(max_iter=100000)"
      ]
     },
     "execution_count": 9,
     "metadata": {},
     "output_type": "execute_result"
    }
   ],
   "source": [
    "logreg = LogisticRegression(max_iter=100_000)\n",
    "logreg.fit(X_train, y_train)"
   ]
  },
  {
   "cell_type": "code",
   "execution_count": 13,
   "id": "5b4d34c1-d871-47b8-8bbc-16b39e0ede51",
   "metadata": {},
   "outputs": [
    {
     "data": {
      "text/plain": [
       "{'Train R2 Score': 0.9476500144094024,\n",
       " 'Test R2 Score': 0.9479764440546298,\n",
       " 'Mean of Residuals': 0.038030703227196865,\n",
       " 'Mean Absolute Error': 0.05228469900713201,\n",
       " 'Residual Sum of Squares': 10432,\n",
       " 'Mean Squared Error': 0.05228469900713201,\n",
       " 'Root Mean Squared Error': 0.22865847678827042,\n",
       " 'cross_val_score': 0.9477102861678202}"
      ]
     },
     "execution_count": 13,
     "metadata": {},
     "output_type": "execute_result"
    }
   ],
   "source": [
    "model_metrics(logreg)"
   ]
  },
  {
   "cell_type": "code",
   "execution_count": 29,
   "id": "c80c6683-88a4-46cf-8236-bbae908b60ca",
   "metadata": {},
   "outputs": [
    {
     "data": {
      "text/html": [
       "<div>\n",
       "<style scoped>\n",
       "    .dataframe tbody tr th:only-of-type {\n",
       "        vertical-align: middle;\n",
       "    }\n",
       "\n",
       "    .dataframe tbody tr th {\n",
       "        vertical-align: top;\n",
       "    }\n",
       "\n",
       "    .dataframe thead th {\n",
       "        text-align: right;\n",
       "    }\n",
       "</style>\n",
       "<table border=\"1\" class=\"dataframe\">\n",
       "  <thead>\n",
       "    <tr style=\"text-align: right;\">\n",
       "      <th></th>\n",
       "      <th>Coefficient</th>\n",
       "    </tr>\n",
       "  </thead>\n",
       "  <tbody>\n",
       "    <tr>\n",
       "      <th>veterans_benefits</th>\n",
       "      <td>0.232484</td>\n",
       "    </tr>\n",
       "    <tr>\n",
       "      <th>education_current_enrollment</th>\n",
       "      <td>0.164185</td>\n",
       "    </tr>\n",
       "    <tr>\n",
       "      <th>num_employed</th>\n",
       "      <td>0.162836</td>\n",
       "    </tr>\n",
       "    <tr>\n",
       "      <th>weeks_worked</th>\n",
       "      <td>0.065543</td>\n",
       "    </tr>\n",
       "    <tr>\n",
       "      <th>same_res_one_year_ago</th>\n",
       "      <td>0.047867</td>\n",
       "    </tr>\n",
       "    <tr>\n",
       "      <th>household_summary</th>\n",
       "      <td>0.043626</td>\n",
       "    </tr>\n",
       "    <tr>\n",
       "      <th>occupation_major</th>\n",
       "      <td>0.039731</td>\n",
       "    </tr>\n",
       "    <tr>\n",
       "      <th>education</th>\n",
       "      <td>0.039719</td>\n",
       "    </tr>\n",
       "    <tr>\n",
       "      <th>age</th>\n",
       "      <td>0.032691</td>\n",
       "    </tr>\n",
       "    <tr>\n",
       "      <th>worker_class</th>\n",
       "      <td>0.028602</td>\n",
       "    </tr>\n",
       "    <tr>\n",
       "      <th>employment_status</th>\n",
       "      <td>0.023912</td>\n",
       "    </tr>\n",
       "    <tr>\n",
       "      <th>country_birth_self</th>\n",
       "      <td>0.017624</td>\n",
       "    </tr>\n",
       "    <tr>\n",
       "      <th>labor_union</th>\n",
       "      <td>0.016737</td>\n",
       "    </tr>\n",
       "    <tr>\n",
       "      <th>self_employed</th>\n",
       "      <td>0.010985</td>\n",
       "    </tr>\n",
       "    <tr>\n",
       "      <th>industry_detailed</th>\n",
       "      <td>0.006057</td>\n",
       "    </tr>\n",
       "    <tr>\n",
       "      <th>cap_loss</th>\n",
       "      <td>0.000661</td>\n",
       "    </tr>\n",
       "    <tr>\n",
       "      <th>stock_dividends</th>\n",
       "      <td>0.000226</td>\n",
       "    </tr>\n",
       "    <tr>\n",
       "      <th>cap_gains</th>\n",
       "      <td>0.000116</td>\n",
       "    </tr>\n",
       "    <tr>\n",
       "      <th>wage_per_hour</th>\n",
       "      <td>-0.000008</td>\n",
       "    </tr>\n",
       "    <tr>\n",
       "      <th>parent_birth_country</th>\n",
       "      <td>-0.021994</td>\n",
       "    </tr>\n",
       "    <tr>\n",
       "      <th>citizenship</th>\n",
       "      <td>-0.022541</td>\n",
       "    </tr>\n",
       "    <tr>\n",
       "      <th>industry_major</th>\n",
       "      <td>-0.025626</td>\n",
       "    </tr>\n",
       "    <tr>\n",
       "      <th>occupation_detailed</th>\n",
       "      <td>-0.059300</td>\n",
       "    </tr>\n",
       "    <tr>\n",
       "      <th>marital_status</th>\n",
       "      <td>-0.084740</td>\n",
       "    </tr>\n",
       "    <tr>\n",
       "      <th>race_3</th>\n",
       "      <td>-0.086881</td>\n",
       "    </tr>\n",
       "    <tr>\n",
       "      <th>hispanic_origin</th>\n",
       "      <td>-0.096576</td>\n",
       "    </tr>\n",
       "    <tr>\n",
       "      <th>race_1</th>\n",
       "      <td>-0.103145</td>\n",
       "    </tr>\n",
       "    <tr>\n",
       "      <th>tax_filer_stat</th>\n",
       "      <td>-0.119003</td>\n",
       "    </tr>\n",
       "    <tr>\n",
       "      <th>race_4</th>\n",
       "      <td>-0.156793</td>\n",
       "    </tr>\n",
       "    <tr>\n",
       "      <th>unemployment_reason</th>\n",
       "      <td>-0.292670</td>\n",
       "    </tr>\n",
       "    <tr>\n",
       "      <th>race_2</th>\n",
       "      <td>-0.752712</td>\n",
       "    </tr>\n",
       "    <tr>\n",
       "      <th>vets_admin_quest</th>\n",
       "      <td>-1.003098</td>\n",
       "    </tr>\n",
       "    <tr>\n",
       "      <th>sex</th>\n",
       "      <td>-1.483826</td>\n",
       "    </tr>\n",
       "    <tr>\n",
       "      <th>fam_members_under_18</th>\n",
       "      <td>-1.792509</td>\n",
       "    </tr>\n",
       "  </tbody>\n",
       "</table>\n",
       "</div>"
      ],
      "text/plain": [
       "                              Coefficient\n",
       "veterans_benefits                0.232484\n",
       "education_current_enrollment     0.164185\n",
       "num_employed                     0.162836\n",
       "weeks_worked                     0.065543\n",
       "same_res_one_year_ago            0.047867\n",
       "household_summary                0.043626\n",
       "occupation_major                 0.039731\n",
       "education                        0.039719\n",
       "age                              0.032691\n",
       "worker_class                     0.028602\n",
       "employment_status                0.023912\n",
       "country_birth_self               0.017624\n",
       "labor_union                      0.016737\n",
       "self_employed                    0.010985\n",
       "industry_detailed                0.006057\n",
       "cap_loss                         0.000661\n",
       "stock_dividends                  0.000226\n",
       "cap_gains                        0.000116\n",
       "wage_per_hour                   -0.000008\n",
       "parent_birth_country            -0.021994\n",
       "citizenship                     -0.022541\n",
       "industry_major                  -0.025626\n",
       "occupation_detailed             -0.059300\n",
       "marital_status                  -0.084740\n",
       "race_3                          -0.086881\n",
       "hispanic_origin                 -0.096576\n",
       "race_1                          -0.103145\n",
       "tax_filer_stat                  -0.119003\n",
       "race_4                          -0.156793\n",
       "unemployment_reason             -0.292670\n",
       "race_2                          -0.752712\n",
       "vets_admin_quest                -1.003098\n",
       "sex                             -1.483826\n",
       "fam_members_under_18            -1.792509"
      ]
     },
     "execution_count": 29,
     "metadata": {},
     "output_type": "execute_result"
    }
   ],
   "source": [
    "coef = list(logreg.coef_)\n",
    "features = list(X.columns)\n",
    "income_coef = pd.DataFrame(zip(features, coef[0]), columns=['Feature', 'Coefficient'],index=features).drop(columns='Feature').sort_values(by='Coefficient', ascending=False)\n",
    "income_coef"
   ]
  },
  {
   "cell_type": "code",
   "execution_count": 30,
   "id": "528cbe3a-19aa-4390-886f-e8b338ff282c",
   "metadata": {},
   "outputs": [
    {
     "data": {
      "image/png": "[encoded data removed]",
      "text/plain": [
       "<Figure size 1440x864 with 1 Axes>"
      ]
     },
     "metadata": {
      "needs_background": "light"
     },
     "output_type": "display_data"
    }
   ],
   "source": [
    "fig_dims = (20, 12)\n",
    "fig, ax = plt.subplots(figsize=fig_dims)\n",
    "sns.barplot(y = income_coef.index, x=income_coef['Coefficient'], ax=ax)\n",
    "plt.xticks(fontsize=16)\n",
    "plt.yticks(fontsize=16)\n",
    "plt.title('Binary Classification Model Coefficients: Predictors Income Greater or Less Than $50k', fontsize=20);"
   ]
  },
  {
   "cell_type": "code",
   "execution_count": 34,
   "id": "7a7d4817-7ad1-4b5c-a67e-d0439c2e8333",
   "metadata": {},
   "outputs": [
    {
     "data": {
      "text/plain": [
       "<Figure size 1440x1440 with 0 Axes>"
      ]
     },
     "metadata": {},
     "output_type": "display_data"
    },
    {
     "data": {
      "image/png": "[encoded data removed]",
      "text/plain": [
       "<Figure size 432x288 with 2 Axes>"
      ]
     },
     "metadata": {
      "needs_background": "light"
     },
     "output_type": "display_data"
    }
   ],
   "source": [
    "plt.figure(figsize=(20, 20))\n",
    "plot_confusion_matrix(logreg, X_test, y_test, cmap='Blues', values_format='d')\n",
    "plt.title('LogisticRegression Confusion Matrix');"
   ]
  },
  {
   "cell_type": "code",
   "execution_count": 35,
   "id": "28e7ee11-ec8f-4b07-ba30-dcccbc6a92d8",
   "metadata": {},
   "outputs": [
    {
     "data": {
      "image/png": "[encoded data removed]",
      "text/plain": [
       "<Figure size 432x288 with 1 Axes>"
      ]
     },
     "metadata": {
      "needs_background": "light"
     },
     "output_type": "display_data"
    }
   ],
   "source": [
    "#ROC plot code is from General Assembly lesson 4.05.\n",
    "plot_roc_curve(logreg, X, y)\n",
    "plt.plot([0,1], [0,1], label = 'baseline', linestyle= '--')\n",
    "plt.title('ROC')\n",
    "plt.legend();"
   ]
  },
  {
   "cell_type": "code",
   "execution_count": 27,
   "id": "a020682d-ea48-442c-be5c-11e5799eba76",
   "metadata": {},
   "outputs": [
    {
     "data": {
      "text/plain": [
       "RandomForestClassifier()"
      ]
     },
     "execution_count": 27,
     "metadata": {},
     "output_type": "execute_result"
    }
   ],
   "source": [
    "rf = RandomForestClassifier()\n",
    "rf.fit(X_train, y_train)"
   ]
  },
  {
   "cell_type": "code",
   "execution_count": 28,
   "id": "c2e2497d-d6da-4042-bf48-2304418ce59f",
   "metadata": {},
   "outputs": [
    {
     "data": {
      "text/plain": [
       "{'Train R2 Score': 0.9995426580962047,\n",
       " 'Test R2 Score': 0.9548678110512467,\n",
       " 'Mean of Residuals': 0.00547305323195822,\n",
       " 'Mean Absolute Error': 0.009392400876089474,\n",
       " 'Residual Sum of Squares': 1874,\n",
       " 'Mean Squared Error': 0.009392400876089474,\n",
       " 'Root Mean Squared Error': 0.0969143997354855,\n",
       " 'cross_val_score': 0.9546067312583906}"
      ]
     },
     "execution_count": 28,
     "metadata": {},
     "output_type": "execute_result"
    }
   ],
   "source": [
    "model_metrics(rf)"
   ]
  },
  {
   "cell_type": "code",
   "execution_count": null,
   "id": "9057345f-3480-49ef-a363-ca198ee7bf57",
   "metadata": {},
   "outputs": [],
   "source": []
  },
  {
   "cell_type": "code",
   "execution_count": 36,
   "id": "de071fe1-2482-4245-abb2-623115034295",
   "metadata": {},
   "outputs": [],
   "source": [
    "rf_params = {\n",
    "    'criterion': ['gini','entropy'],\n",
    "    'min_samples_split': [2, 4],\n",
    "    'n_estimators': [3, 5],\n",
    "    'class_weight': ['balanced', 'balanced_subsample'],\n",
    "    'ccp_alpha': [.0001, .001, .01, .1]\n",
    "\n",
    "}\n",
    "\n",
    "rf_gridsearch = GridSearchCV(RandomForestClassifier(), \n",
    "                              rf_params, \n",
    "                              cv=5, \n",
    "                              verbose=1)"
   ]
  },
  {
   "cell_type": "code",
   "execution_count": 37,
   "id": "62a62d0b-66a1-4e45-970a-0f1b6d168ab3",
   "metadata": {},
   "outputs": [
    {
     "name": "stdout",
     "output_type": "stream",
     "text": [
      "Fitting 5 folds for each of 64 candidates, totalling 320 fits\n"
     ]
    },
    {
     "data": {
      "text/plain": [
       "GridSearchCV(cv=5, estimator=RandomForestClassifier(),\n",
       "             param_grid={'ccp_alpha': [0.0001, 0.001, 0.01, 0.1],\n",
       "                         'class_weight': ['balanced', 'balanced_subsample'],\n",
       "                         'criterion': ['gini', 'entropy'],\n",
       "                         'min_samples_split': [2, 4], 'n_estimators': [3, 5]},\n",
       "             verbose=1)"
      ]
     },
     "execution_count": 37,
     "metadata": {},
     "output_type": "execute_result"
    }
   ],
   "source": [
    "rf_gridsearch.fit(X_train, y_train)"
   ]
  },
  {
   "cell_type": "code",
   "execution_count": 39,
   "id": "59bc6f06-9cc0-48eb-84ba-b3665abe2144",
   "metadata": {},
   "outputs": [
    {
     "data": {
      "text/plain": [
       "{'ccp_alpha': 0.0001,\n",
       " 'class_weight': 'balanced_subsample',\n",
       " 'criterion': 'entropy',\n",
       " 'min_samples_split': 4,\n",
       " 'n_estimators': 5}"
      ]
     },
     "execution_count": 39,
     "metadata": {},
     "output_type": "execute_result"
    }
   ],
   "source": [
    "rf_gridsearch.best_params_"
   ]
  },
  {
   "cell_type": "code",
   "execution_count": 40,
   "id": "7ed3f011-a51b-4a6b-aca9-d33b578d9679",
   "metadata": {},
   "outputs": [
    {
     "data": {
      "text/plain": [
       "0.903187611025077"
      ]
     },
     "execution_count": 40,
     "metadata": {},
     "output_type": "execute_result"
    }
   ],
   "source": [
    "rf_gridsearch.best_score_"
   ]
  },
  {
   "cell_type": "code",
   "execution_count": 41,
   "id": "0974107e-146e-419d-8a34-3bd38244b406",
   "metadata": {},
   "outputs": [
    {
     "data": {
      "text/plain": [
       "RandomForestClassifier(ccp_alpha=0.0001)"
      ]
     },
     "execution_count": 41,
     "metadata": {},
     "output_type": "execute_result"
    }
   ],
   "source": [
    "rf = RandomForestClassifier(ccp_alpha=0.0001)\n",
    "rf.fit(X_train, y_train)"
   ]
  },
  {
   "cell_type": "code",
   "execution_count": 48,
   "id": "9ed00853-61b6-4245-b788-effe9d6a1eb3",
   "metadata": {},
   "outputs": [
    {
     "data": {
      "text/plain": [
       "{'Train R2 Score': 0.9507574333721761,\n",
       " 'Test R2 Score': 0.9512341811803032,\n",
       " 'Mean of Residuals': 0.04151902286954386,\n",
       " 'Mean Absolute Error': 0.04914721611042336,\n",
       " 'Residual Sum of Squares': 9806,\n",
       " 'Mean Squared Error': 0.04914721611042336,\n",
       " 'Root Mean Squared Error': 0.22169171412216415,\n",
       " 'cross_val_score': 0.9506974063902973,\n",
       " 'f1': 0.4049757281553398,\n",
       " 'classification report': '              precision    recall  f1-score   support\\n\\n           0       0.95      1.00      0.97    187141\\n           1       0.81      0.27      0.40     12382\\n\\n    accuracy                           0.95    199523\\n   macro avg       0.88      0.63      0.69    199523\\nweighted avg       0.95      0.95      0.94    199523\\n'}"
      ]
     },
     "execution_count": 48,
     "metadata": {},
     "output_type": "execute_result"
    }
   ],
   "source": [
    "model_metrics(rf)"
   ]
  },
  {
   "cell_type": "code",
   "execution_count": 52,
   "id": "5037ae8b-7ee3-4f0e-b1cf-b31fff6296af",
   "metadata": {},
   "outputs": [
    {
     "data": {
      "text/plain": [
       "StackingClassifier(cv=7,\n",
       "                   estimators=[('knn', KNeighborsClassifier(p=1)),\n",
       "                               ('tree',\n",
       "                                DecisionTreeClassifier(ccp_alpha=0.001,\n",
       "                                                       min_samples_leaf=3,\n",
       "                                                       min_samples_split=3,\n",
       "                                                       random_state=42))],\n",
       "                   final_estimator=RandomForestClassifier())"
      ]
     },
     "execution_count": 52,
     "metadata": {},
     "output_type": "execute_result"
    }
   ],
   "source": [
    "estimators = [('knn', KNeighborsClassifier(p=1)),\n",
    "              ('tree', DecisionTreeClassifier(random_state=42, ccp_alpha=0.001, min_samples_leaf=3, min_samples_split=3))]\n",
    "\n",
    "stacks = StackingClassifier(estimators=estimators, final_estimator=RandomForestClassifier(), cv=7)\n",
    "\n",
    "stacks.fit(X_train, y_train)\n"
   ]
  },
  {
   "cell_type": "code",
   "execution_count": null,
   "id": "b7bc5cbd-e451-417a-8b6d-1fa89c186d69",
   "metadata": {},
   "outputs": [],
   "source": [
    "model_metrics(stacks)"
   ]
  },
  {
   "cell_type": "code",
   "execution_count": null,
   "id": "dff512f9-06a0-439c-a79c-3acd6d9d4513",
   "metadata": {},
   "outputs": [],
   "source": []
  }
 ],
 "metadata": {
  "kernelspec": {
   "display_name": "Python 3",
   "language": "python",
   "name": "python3"
  },
  "language_info": {
   "codemirror_mode": {
    "name": "ipython",
    "version": 3
   },
   "file_extension": ".py",
   "mimetype": "text/x-python",
   "name": "python",
   "nbconvert_exporter": "python",
   "pygments_lexer": "ipython3",
   "version": "3.8.8"
  }
 },
 "nbformat": 4,
 "nbformat_minor": 5
}
